{
 "cells": [
  {
   "cell_type": "markdown",
   "metadata": {},
   "source": [
    "# Imports"
   ]
  },
  {
   "cell_type": "code",
   "execution_count": 1,
   "metadata": {},
   "outputs": [],
   "source": [
    "import maurikit_learn as ml\n",
    "import numpy as np\n",
    "from sklearn.model_selection import train_test_split"
   ]
  },
  {
   "cell_type": "markdown",
   "metadata": {},
   "source": [
    "# Load Data"
   ]
  },
  {
   "cell_type": "code",
   "execution_count": 2,
   "metadata": {},
   "outputs": [],
   "source": [
    "#Embaralha dados\n",
    "dados = np.loadtxt(\"data1.txt\", delimiter=\",\")\n",
    "\n",
    "#Embaralhando as amostras\n",
    "np.random.shuffle(dados)\n",
    "\n",
    "#Separa dados\n",
    "X = dados[:,0:2]\n",
    "y = dados[:,2]\n",
    "\n",
    "#Normalização\n",
    "X = (X - X.min()) / (X.max() - X.min())\n",
    "\n",
    "#Separação de conjunto de treino e conjunto de teste\n",
    "X_train, X_test, y_train, y_test = train_test_split(X, y, test_size=0.3)"
   ]
  },
  {
   "cell_type": "code",
   "execution_count": 3,
   "metadata": {},
   "outputs": [],
   "source": [
    "mlp = ml.redeMLP(input_layer_size=2)"
   ]
  },
  {
   "cell_type": "code",
   "execution_count": 18,
   "metadata": {},
   "outputs": [],
   "source": [
    "mlp.fit(X_train, y_train, epochs=300, learning_rate=0.1)"
   ]
  },
  {
   "cell_type": "code",
   "execution_count": 19,
   "metadata": {},
   "outputs": [],
   "source": [
    "y_pred = mlp.predict(X_test)"
   ]
  },
  {
   "cell_type": "code",
   "execution_count": 20,
   "metadata": {},
   "outputs": [
    {
     "data": {
      "text/plain": [
       "array([0.54822108, 0.65398302, 0.72196006, 0.6902456 , 0.74229938,\n",
       "       0.7024891 , 0.60925983, 0.64056348, 0.64268598, 0.63707316,\n",
       "       0.5683784 , 0.49706858, 0.53731353, 0.51920912, 0.52802814,\n",
       "       0.53088633, 0.62663027, 0.50354493, 0.48871582, 0.61967499,\n",
       "       0.60887226, 0.42991767, 0.55644181, 0.60941799, 0.58563662,\n",
       "       0.67784464, 0.70247346, 0.54130522, 0.69480753, 0.68134993])"
      ]
     },
     "execution_count": 20,
     "metadata": {},
     "output_type": "execute_result"
    }
   ],
   "source": [
    "y_pred"
   ]
  }
 ],
 "metadata": {
  "kernelspec": {
   "display_name": "Python 3",
   "language": "python",
   "name": "python3"
  },
  "language_info": {
   "codemirror_mode": {
    "name": "ipython",
    "version": 3
   },
   "file_extension": ".py",
   "mimetype": "text/x-python",
   "name": "python",
   "nbconvert_exporter": "python",
   "pygments_lexer": "ipython3",
   "version": "3.7.6"
  }
 },
 "nbformat": 4,
 "nbformat_minor": 4
}
